version https://git-lfs.github.com/spec/v1
oid sha256:8e5e693eb727a2286fb7e9a48935e78c8e924613a30cf9b1a23f5ae6b3ccf0e9
size 61933
